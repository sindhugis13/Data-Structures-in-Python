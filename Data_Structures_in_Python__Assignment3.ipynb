{
  "nbformat": 4,
  "nbformat_minor": 0,
  "metadata": {
    "colab": {
      "provenance": [],
      "gpuType": "T4"
    },
    "kernelspec": {
      "name": "python3",
      "display_name": "Python 3"
    },
    "language_info": {
      "name": "python"
    },
    "accelerator": "GPU"
  },
  "cells": [
    {
      "cell_type": "markdown",
      "source": [
        "# Data Structures in Python"
      ],
      "metadata": {
        "id": "NvWvamTk7Qci"
      }
    },
    {
      "cell_type": "markdown",
      "source": [
        "1. What are data structures, and why are they important\n",
        "\n",
        "     Data structures are ways to organize and store data in a computer. They are important because they help make programs run faster and use less memory.\n",
        "\n",
        "2. Explain the difference between mutable and immutable data types with examples\n",
        "\n",
        "      In Python, data types can be classified into two categories: mutable and immutable. Understanding the difference between these two is crucial for effective programming.\n",
        "\n",
        "     #Immutable data types are those whose values cannot be changed once they are created. If you try to modify an immutable object, a new object is created instead. Common immutable data types in Python include.\n",
        "\n",
        "     *Numbers: Integers, floats, and complex numbers are immutable.\n",
        "\n",
        "     *Strings: Strings are sequences of characters and are immutable. Any operation that modifies a string will create a new string object.\n",
        "\n",
        "     *Tuples: Tuples are ordered collections of items and are immutable. You cannot change the elements of a tuple once it is created.\n",
        "\n",
        "     #Mutable data types are those whose values can be changed after they are created. Common mutable data types in Python include.\n",
        "\n",
        "     *Lists: Lists are ordered collections of items and are mutable. You can add, remove, or change items in a list.\n",
        "\n",
        "     *Dictionaries: Dictionaries are collections of key-value pairs and are mutable. You can add, remove, or change key-value pairs.\n",
        "\n",
        "      *Sets: Sets are unordered collections of unique items and are mutable. You can add or remove items from a set.\n",
        "\n",
        "\n",
        "3.  What are the main differences between lists and tuples in Python\n",
        "\n",
        "      #Mutability\n",
        "\n",
        "      *Lists: Mutable, meaning you can change, add, or remove elements after the list is created.\n",
        "\n",
        "      *Tuples: Immutable, meaning once a tuple is created, you cannot change its elements.\n",
        "\n",
        "      #Syntax\n",
        "\n",
        "      *Lists: Defined using square brackets []\n",
        "\n",
        "      *Tuples: Defined using parentheses ()\n",
        "\n",
        "       #Performance\n",
        "\n",
        "     *Lists: Generally slower than tuples because of their mutable nature.\n",
        "\n",
        "     *Tuples: Faster than lists due to their immutability, which allows for optimizations.\n",
        "\n",
        "     #Use Cases\n",
        "\n",
        "     *Lists: Suitable for collections of items that may need to be modified.\n",
        "\n",
        "     *Tuples: Suitable for fixed collections of items, such as coordinates or configuration settings\n",
        "\n",
        "     #Methods\n",
        "\n",
        "      *Lists: Have a variety of methods like append(), remove(), pop(), etc\n",
        "\n",
        "      *Tuples: Have fewer methods, mainly count() and index()\n",
        "\n",
        "     #Memory Usage\n",
        "\n",
        "      *Lists: Consume more memory due to their dynamic nature.\n",
        "\n",
        "      *Tuples: Consume less memory, making them more memory-efficient.\n",
        "\n",
        "4. Describe how dictionaries store data\n",
        "\n",
        "    1. Hash Table Implementation\n",
        "    2. Key-Value Pairs\n",
        "    3. Dynamic Resizing\n",
        "    4. Memory Management\n",
        "\n",
        "     EX:DICTIONARY= {'name': 'Alice', 'city': 'Paris', 'AGE': '30'}\n",
        "\n",
        "5.  Why might you use a set instead of a list in Python\n",
        "\n",
        "     Uniqueness: Sets automatically ensure that all elements are unique. If you need to store a collection of items and want to avoid duplicates, a set is the perfect choice.\n",
        "\n",
        "     Performance: Sets provide faster membership tests compared to lists. Checking if an item is in a set is on average O(1) time complexity, whereas for a list, it is O(n).\n",
        "\n",
        "     Set Operations: Sets support mathematical operations like union, intersection, difference, and symmetric difference. These operations are not directly available for lists and can be very handy for certain types of problems.\n",
        "\n",
        "6.  What is a string in Python, and how is it different from a list\n",
        "\n",
        "     Description:Characters arranged in an unchangeable order. Consider writing a sentence, a paragraph, or a piece of material.\n",
        "\n",
        "     Operations: Each character in the string can be accessed by its index, or position. Substrings can be extracted using slicing. Strings can be joined together and altered using a variety of techniques (find, replace, etc.).\n",
        "\n",
        "7.  How do tuples ensure data integrity in Python\n",
        "\n",
        "      Tuples in Python ensure data integrity primarily through their immutability. Once a tuple is created, its elements cannot be modified, added, or removed. This characteristic makes tuples suitable for situations where data should remain constant throughout the program's execution, such as storing configuration settings or representing fixed records. Immutability prevents accidental or unauthorized changes, ensuring the consistency and reliability of the data. If there is a need to modify the data, a new tuple with the desired changes must be created, leaving the original tuple intact\n",
        "\n",
        "8.  What is a hash table, and how does it relate to dictionaries in Python\n",
        "\n",
        "      A hash table is a data structure that stores key-value pairs, similar to a dictionary. It uses a hash function to compute an index for each key, which determines the location where the value is stored.\n",
        "\n",
        "      In Python, dictionaries are implemented using hash tables. When you create a dictionary, Python allocates a hash table to store the key-value pairs. When you add a new key-value pair to the dictionary, Python calculates the hash value of the key and uses it to determine the index in the hash table where the value should be stored. If a collision occurs, Python uses a collision resolution technique, such as separate chaining or open addressing, to handle the conflict.\n",
        "\n",
        "9.  Can lists contain different data types in Python\n",
        "\n",
        "     Yes,lists in Python are capable of storing elements of different data types. A single list can contain integers, floats, strings, booleans, and even other lists or more complex objects. This flexibility is a key feature of Python lists and distinguishes them from arrays in some other programming languages, which typically require all elements to be of the same type.\n",
        "\n",
        "10.  Explain why strings are immutable in Python\n",
        "\n",
        "      Immutability means that once an object is created, it cannot be changed. In Python, strings are immutable, which means that after a string is created, its value cannot be modified.\n",
        "\n",
        "     #Memory Efficiency:\n",
        "\n",
        "      Interning: Python uses a technique called string interning, where identical strings are stored only once in memory. This saves memory and speeds up comparisons. If strings were mutable, this optimization wouldn't be possible.\n",
        "\n",
        "     #Thread Safety:\n",
        "\n",
        "      Concurrency: In multi-threaded environments, immutable objects are inherently thread-safe. Since strings cannot be changed, there is no risk of one thread modifying a string while another thread is reading it.\n",
        "      \n",
        "     #Hashing:\n",
        "\n",
        "      Dictionary Keys: Strings are often used as keys in dictionaries. For an object to be used as a key, it must be hashable, meaning its hash value must remain constant. Immutability ensures that the hash value of a string remains consistent throughout its lifetime.\n",
        "      \n",
        "     #Predictability:\n",
        "\n",
        "      Consistency: Immutable objects are easier to reason about because their state cannot change unexpectedly. This leads to more predictable and bug-free code.\n",
        "\n",
        "11. What advantages do dictionaries offer over lists for certain tasks\n",
        "\n",
        "      Quick Data Look-ups: Dictionaries allow for fast access to values using keys, making them ideal for configurations or caches.\n",
        "\n",
        "      Avoiding Information Overload: They help in organizing data efficiently, reducing complexity when handling large datasets.\n",
        "\n",
        "      Flexibility: Dictionaries can store data in key-value pairs, which allows for more complex data structures compared to the linear nature of lists.\n",
        "\n",
        "      Efficient Searching: For example, when storing phone numbers, dictionaries enable quicker searches for specific numbers compared to searching through a list of pairs.\n",
        "\n",
        "      These features make dictionaries particularly useful in scenarios where quick access and organization of data are essential.\n",
        "\n",
        "12. Describe a scenario where using a tuple would be preferable over a list\n",
        "\n",
        "       se a tuple if you need an immutable collection where the elements won't change after creation. Tuples are generally faster and more memory-efficient than lists, making them better for fixed collections, especially as dictionary keys or when iteration speed is crucial.\n",
        "\n",
        "13.  How do sets handle duplicate values in Python\n",
        "\n",
        "        In Python, sets are a collection type that automatically handle duplicate values by ensuring that each element is unique. When you add elements to a set, any duplicates are automatically removed. Here's a quick example to illustrate this.\n",
        "\n",
        "14.  How does the “in” keyword work differently for lists and dictionaries\n",
        "\n",
        "     #For dictionaries\n",
        "\n",
        "      As mentioned above, the in operation for the dictionary tests on keys. The key of the dictionary is a unique value as well as the set, and the execution time is about the same as for sets. On the other hand, dictionary values can be duplicated like a list.\n",
        "\n",
        "15.  Can you modify the elements of a tuple? Explain why or why not\n",
        "\n",
        "      In Python, tuples are immutable. This means that you cannot modify them directly by adding, changing, or removing items (elements). If you need to work with mutable data, use lists instead.\n",
        "\n",
        "16. What is a nested dictionary, and give an example of its use case\n",
        "\n",
        "      Nesting Dictionary means putting a dictionary inside another dictionary. Nest.\n",
        "\n",
        "\n",
        "\n",
        "\n",
        "\n"
      ],
      "metadata": {
        "id": "EP2YD7hS11sr"
      }
    },
    {
      "cell_type": "code",
      "source": [
        "nested_dict = {'dict1': {'key_A': 'value_A'},\n",
        "               'dict2': {'key_B': 'value_B'}}\n",
        "print(nested_dict)"
      ],
      "metadata": {
        "colab": {
          "base_uri": "https://localhost:8080/"
        },
        "id": "FO9tqNZcNByh",
        "outputId": "f9ba6ee0-0d58-4cc8-c53e-2c3811c3c801"
      },
      "execution_count": 63,
      "outputs": [
        {
          "output_type": "stream",
          "name": "stdout",
          "text": [
            "{'dict1': {'key_A': 'value_A'}, 'dict2': {'key_B': 'value_B'}}\n"
          ]
        }
      ]
    },
    {
      "cell_type": "markdown",
      "source": [
        "17. Describe the time complexity of accessing elements in a dictionary\n",
        "\n",
        "     The time complexity of accessing an element in a Python dictionary is O(1) on average, but can be O(n) in the worst case. The worst case occurs when there are many hash collisions or when all elements are in a single hash bucket.\n",
        "\n",
        "     Other dictionary operation time complexities:\n",
        "\n",
        "      Adding a key-value pair: O(1) on average, O(n) worst case\n",
        "      Modifying a value by key: O(1) on average, O(n) worst case\n",
        "      Removing a key-value pair by key: O(1) on average, O(n) worst case\n",
        "      Iterating over the keys, values, or items: O(n)\n",
        "\n",
        "18. In what situations are lists preferred over dictionaries\n",
        "\n",
        "       For quick data look-ups, configurations, or caches, favor dictionaries. For ordered collections and sequence operations, such as maintaining a stack or queue, lists are more suitable.\n",
        "\n",
        "19.  Why are dictionaries considered unordered, and how does that affect data retrieval\n",
        "\n",
        "       Dictionaries are considered unordered because they do not maintain an inherent positional index like lists or arrays; instead, they use keys to uniquely identify and retrieve values associated with those keys. This means that the order in which elements are stored is not the same as the order in which they are printed. The unordered nature of dictionaries allows for optimized storage and fast retrieval based on keys, which can enhance performance when accessing data. However, this characteristic can lead to confusion when users expect elements to be in a specific order.\n",
        "\n",
        "20. Explain the difference between a list and a dictionary in terms of data retrieval.\n",
        "\n",
        "     A list is an ordered collection of items, whereas a dictionary is an unordered data collection in a key: value pair. Elements from the list can be accessed using the index, while the elements of the dictionary can be accessed using keys."
      ],
      "metadata": {
        "id": "oaSetB4xTHuS"
      }
    },
    {
      "cell_type": "markdown",
      "source": [
        "#Practical Questions"
      ],
      "metadata": {
        "id": "HCgbgu6_NR0L"
      }
    },
    {
      "cell_type": "markdown",
      "source": [
        "1.  write a program to print your name in python"
      ],
      "metadata": {
        "id": "MwXPLFMVBDay"
      }
    },
    {
      "cell_type": "code",
      "source": [
        "name = \"sindhuja\"\n",
        "print(name)\n",
        "\n"
      ],
      "metadata": {
        "colab": {
          "base_uri": "https://localhost:8080/"
        },
        "id": "esVlr3aSAyuK",
        "outputId": "4e21b9d7-543a-4152-c895-6b362abe0e60"
      },
      "execution_count": 12,
      "outputs": [
        {
          "output_type": "stream",
          "name": "stdout",
          "text": [
            "sindhuja\n"
          ]
        }
      ]
    },
    {
      "cell_type": "markdown",
      "source": [
        "2. Write a code to find the length of the string \"Hello World\""
      ],
      "metadata": {
        "id": "VM2gtZETBR_a"
      }
    },
    {
      "cell_type": "code",
      "source": [
        "string = \"Hello World\"\n",
        "length = len(string)\n",
        "print(length)"
      ],
      "metadata": {
        "colab": {
          "base_uri": "https://localhost:8080/"
        },
        "id": "_RwgbkkpBhWj",
        "outputId": "34a95016-7e38-4458-9814-73a20c3fb052"
      },
      "execution_count": 15,
      "outputs": [
        {
          "output_type": "stream",
          "name": "stdout",
          "text": [
            "11\n"
          ]
        }
      ]
    },
    {
      "cell_type": "markdown",
      "source": [
        "  3.  Write a code to slice the first 3 characters from the string \"Python Programming\""
      ],
      "metadata": {
        "id": "nggjQxu3Bi55"
      }
    },
    {
      "cell_type": "code",
      "source": [
        "original_string =  \"Python Programming\"\n",
        "sliced_string = original_string[:3]\n",
        "print(sliced_string)"
      ],
      "metadata": {
        "colab": {
          "base_uri": "https://localhost:8080/"
        },
        "id": "q9xUqse5Buyq",
        "outputId": "136b7460-733d-4753-ee8e-c4d0dca4a3b5"
      },
      "execution_count": 17,
      "outputs": [
        {
          "output_type": "stream",
          "name": "stdout",
          "text": [
            "Pyt\n"
          ]
        }
      ]
    },
    {
      "cell_type": "markdown",
      "source": [
        "4. Write a code to convert the string \"hello\" to uppercase"
      ],
      "metadata": {
        "id": "ueAcvgvFBweB"
      }
    },
    {
      "cell_type": "code",
      "source": [
        "string = \"hello\"\n",
        "uppercase_string = string.upper()\n",
        "print(uppercase_string)"
      ],
      "metadata": {
        "colab": {
          "base_uri": "https://localhost:8080/"
        },
        "id": "qMPfmlTCB4EJ",
        "outputId": "c0f23933-cb79-49f3-a2d7-4dc419d14f98"
      },
      "execution_count": 18,
      "outputs": [
        {
          "output_type": "stream",
          "name": "stdout",
          "text": [
            "HELLO\n"
          ]
        }
      ]
    },
    {
      "cell_type": "markdown",
      "source": [
        "5.  Write a code to replace the word \"apple\" with \"orange\" in the string \"I like apple\""
      ],
      "metadata": {
        "id": "FHrzktctB4zx"
      }
    },
    {
      "cell_type": "code",
      "source": [
        "original_string = \"I like apple\"\n",
        "new_string = original_string.replace(\"apple\", \"orange\")\n",
        "print(new_string)"
      ],
      "metadata": {
        "colab": {
          "base_uri": "https://localhost:8080/"
        },
        "id": "XD3KpKlPB_lp",
        "outputId": "a8660591-f992-4f9e-bd9d-78c5f4cee420"
      },
      "execution_count": 19,
      "outputs": [
        {
          "output_type": "stream",
          "name": "stdout",
          "text": [
            "I like orange\n"
          ]
        }
      ]
    },
    {
      "cell_type": "markdown",
      "source": [
        "6.  Write a code to create a list with numbers 1 to 5 and print it"
      ],
      "metadata": {
        "id": "GDLWeSYnCAIp"
      }
    },
    {
      "cell_type": "code",
      "source": [
        "NUMBER = [1,2,3,4,5]\n",
        "print(NUMBER)"
      ],
      "metadata": {
        "colab": {
          "base_uri": "https://localhost:8080/"
        },
        "id": "OKVwG9FKCEha",
        "outputId": "657073dc-b4a6-4aa4-917a-920919d5f314"
      },
      "execution_count": 20,
      "outputs": [
        {
          "output_type": "stream",
          "name": "stdout",
          "text": [
            "[1, 2, 3, 4, 5]\n"
          ]
        }
      ]
    },
    {
      "cell_type": "markdown",
      "source": [
        "7.  Write a code to append the number 10 to the list [1, 2, 3, 4]"
      ],
      "metadata": {
        "id": "GJI3V6A-CFtR"
      }
    },
    {
      "cell_type": "code",
      "source": [
        "NUMBER= [1,2,3,4]\n",
        "NUMBER.append(10)\n",
        "print(NUMBER)"
      ],
      "metadata": {
        "colab": {
          "base_uri": "https://localhost:8080/"
        },
        "id": "HoRGuktmCJ2a",
        "outputId": "67e79257-30a4-4080-c764-6694b5b32435"
      },
      "execution_count": 21,
      "outputs": [
        {
          "output_type": "stream",
          "name": "stdout",
          "text": [
            "[1, 2, 3, 4, 10]\n"
          ]
        }
      ]
    },
    {
      "cell_type": "markdown",
      "source": [
        "8.  Write a code to remove the number 3 from the list [1, 2, 3, 4, 5]"
      ],
      "metadata": {
        "id": "uwrvSKtBCKnS"
      }
    },
    {
      "cell_type": "code",
      "source": [
        "NUMBER= [1,2,3,4,5]\n",
        "NUMBER.remove(3)\n",
        "print(NUMBER)"
      ],
      "metadata": {
        "colab": {
          "base_uri": "https://localhost:8080/"
        },
        "id": "V9qHSlRHCUwi",
        "outputId": "876c4184-6f62-4386-c198-a5cc4b9062a4"
      },
      "execution_count": 22,
      "outputs": [
        {
          "output_type": "stream",
          "name": "stdout",
          "text": [
            "[1, 2, 4, 5]\n"
          ]
        }
      ]
    },
    {
      "cell_type": "markdown",
      "source": [
        "9.  Write a code to access the second element in the list ['a', 'b', 'c', 'd']"
      ],
      "metadata": {
        "id": "DI8JEmkxCPdC"
      }
    },
    {
      "cell_type": "code",
      "source": [
        "ELEMENT= ['a', 'b', 'c', 'd']\n",
        "print(ELEMENT[1])"
      ],
      "metadata": {
        "colab": {
          "base_uri": "https://localhost:8080/"
        },
        "id": "fhwMWLhgCOyi",
        "outputId": "97904cea-df74-4d98-9204-7e0fb81a7204"
      },
      "execution_count": 23,
      "outputs": [
        {
          "output_type": "stream",
          "name": "stdout",
          "text": [
            "b\n"
          ]
        }
      ]
    },
    {
      "cell_type": "markdown",
      "source": [
        "10. Write a code to reverse the list [10, 20, 30, 40, 50]"
      ],
      "metadata": {
        "id": "eeQ1WFELCVuR"
      }
    },
    {
      "cell_type": "code",
      "source": [
        "LIST= [10, 20, 30, 40, 50]\n",
        "LIST.reverse()\n",
        "print(LIST)"
      ],
      "metadata": {
        "colab": {
          "base_uri": "https://localhost:8080/"
        },
        "id": "UBgM-e8RCZ5a",
        "outputId": "85450c8f-99c4-40eb-8c16-2ee97f7edeed"
      },
      "execution_count": 24,
      "outputs": [
        {
          "output_type": "stream",
          "name": "stdout",
          "text": [
            "[50, 40, 30, 20, 10]\n"
          ]
        }
      ]
    },
    {
      "cell_type": "markdown",
      "source": [
        "11. Write a code to create a tuple with the elements 100, 200, 300 and print it"
      ],
      "metadata": {
        "id": "DMnD_Vr9CaRR"
      }
    },
    {
      "cell_type": "code",
      "source": [
        "ELEMENT= (100, 200, 300)\n",
        "print(ELEMENT)"
      ],
      "metadata": {
        "colab": {
          "base_uri": "https://localhost:8080/"
        },
        "id": "eTg3eX4VCe86",
        "outputId": "9e16bbe7-60fe-48df-83a4-e059b8b9173e"
      },
      "execution_count": 25,
      "outputs": [
        {
          "output_type": "stream",
          "name": "stdout",
          "text": [
            "(100, 200, 300)\n"
          ]
        }
      ]
    },
    {
      "cell_type": "markdown",
      "source": [
        "12.  Write a code to access the second-to-last element of the tuple ('red', 'green', 'blue', 'yellow')"
      ],
      "metadata": {
        "id": "bNHld6UnCfnZ"
      }
    },
    {
      "cell_type": "code",
      "source": [
        "ELEMENT= ('red', 'green', 'blue', 'yellow')\n",
        "print(ELEMENT[-2])"
      ],
      "metadata": {
        "colab": {
          "base_uri": "https://localhost:8080/"
        },
        "id": "IlBw5xp9Cjua",
        "outputId": "a745dcbb-4b75-4792-eac3-fa0d335b789e"
      },
      "execution_count": 26,
      "outputs": [
        {
          "output_type": "stream",
          "name": "stdout",
          "text": [
            "blue\n"
          ]
        }
      ]
    },
    {
      "cell_type": "markdown",
      "source": [
        "13.  Write a code to find the minimum number in the tuple (10, 20, 5, 15)"
      ],
      "metadata": {
        "id": "vU-YeYuZCkQp"
      }
    },
    {
      "cell_type": "code",
      "source": [
        "NUMBER= (10, 20, 5, 15)\n",
        "print(min(NUMBER))"
      ],
      "metadata": {
        "colab": {
          "base_uri": "https://localhost:8080/"
        },
        "id": "nlruJ-b-Cm9C",
        "outputId": "6d301ba9-5934-4a1d-becd-dca7b1855581"
      },
      "execution_count": 27,
      "outputs": [
        {
          "output_type": "stream",
          "name": "stdout",
          "text": [
            "5\n"
          ]
        }
      ]
    },
    {
      "cell_type": "markdown",
      "source": [
        "14.  Write a code to find the index of the element \"cat\" in the tuple ('dog', 'cat', 'rabbit')"
      ],
      "metadata": {
        "id": "nzZIBo2kCn2C"
      }
    },
    {
      "cell_type": "code",
      "source": [
        "ELEMENT= ('dog', 'cat', 'rabbit')\n",
        "print(ELEMENT.index(\"cat\"))"
      ],
      "metadata": {
        "colab": {
          "base_uri": "https://localhost:8080/"
        },
        "id": "OYSztsywCrvK",
        "outputId": "80bea6f7-54ad-41a6-ef04-756553529317"
      },
      "execution_count": 28,
      "outputs": [
        {
          "output_type": "stream",
          "name": "stdout",
          "text": [
            "1\n"
          ]
        }
      ]
    },
    {
      "cell_type": "markdown",
      "source": [
        "15. Write a code to create a tuple containing three different fruits and check if \"kiwi\" is in it"
      ],
      "metadata": {
        "id": "KQIA95JXCsU5"
      }
    },
    {
      "cell_type": "code",
      "source": [
        "ELEMENT= ('apple', 'banana', 'kiwi')\n",
        "print(\"kiwi\" in ELEMENT)"
      ],
      "metadata": {
        "colab": {
          "base_uri": "https://localhost:8080/"
        },
        "id": "dLsqDLYdCvyi",
        "outputId": "c2c4d009-a328-43fd-ca0e-b4d76b7a957d"
      },
      "execution_count": 29,
      "outputs": [
        {
          "output_type": "stream",
          "name": "stdout",
          "text": [
            "True\n"
          ]
        }
      ]
    },
    {
      "cell_type": "markdown",
      "source": [
        "16.  Write a code to create a set with the elements 'a', 'b', 'c' and print it"
      ],
      "metadata": {
        "id": "anE5B5RaCwR5"
      }
    },
    {
      "cell_type": "code",
      "source": [
        "ELEMRNT= ('a', 'b', 'c')\n",
        "print(ELEMRNT)"
      ],
      "metadata": {
        "colab": {
          "base_uri": "https://localhost:8080/"
        },
        "id": "-eTVe62-CzQK",
        "outputId": "1504d109-9695-4a72-f924-9ba55d6dc6c7"
      },
      "execution_count": 31,
      "outputs": [
        {
          "output_type": "stream",
          "name": "stdout",
          "text": [
            "('a', 'b', 'c')\n"
          ]
        }
      ]
    },
    {
      "cell_type": "code",
      "source": [
        "ELEMENT= {'a', 'b', 'c'}\n",
        "print(ELEMRNT)"
      ],
      "metadata": {
        "colab": {
          "base_uri": "https://localhost:8080/"
        },
        "id": "dEMFp7b-I0ui",
        "outputId": "2b82d47f-bb37-45d7-87c1-c235b473327b"
      },
      "execution_count": 32,
      "outputs": [
        {
          "output_type": "stream",
          "name": "stdout",
          "text": [
            "('a', 'b', 'c')\n"
          ]
        }
      ]
    },
    {
      "cell_type": "markdown",
      "source": [
        "17. Write a code to clear all elements from the set {1, 2, 3, 4, 5}"
      ],
      "metadata": {
        "id": "BQMPnd3DC0Bp"
      }
    },
    {
      "cell_type": "code",
      "source": [
        "ELEMENT= {1, 2, 3, 4, 5}\n",
        "ELEMENT.clear()\n",
        "print(ELEMENT)"
      ],
      "metadata": {
        "colab": {
          "base_uri": "https://localhost:8080/"
        },
        "id": "smMHwkwPC3I6",
        "outputId": "183298da-b6d5-4974-f011-1ea51bd2f5ad"
      },
      "execution_count": 33,
      "outputs": [
        {
          "output_type": "stream",
          "name": "stdout",
          "text": [
            "set()\n"
          ]
        }
      ]
    },
    {
      "cell_type": "markdown",
      "source": [
        "18. Write a code to remove the element 4 from the set {1, 2, 3, 4}"
      ],
      "metadata": {
        "id": "B8qgyK4aC3tR"
      }
    },
    {
      "cell_type": "code",
      "source": [
        "ELEMENT= {1, 2, 3, 4}\n",
        "ELEMENT.remove(4)\n",
        "print(ELEMENT)"
      ],
      "metadata": {
        "colab": {
          "base_uri": "https://localhost:8080/"
        },
        "id": "9LZHWWuOC66i",
        "outputId": "2e4e93cb-9ffa-4593-d54b-0978eede4154"
      },
      "execution_count": 34,
      "outputs": [
        {
          "output_type": "stream",
          "name": "stdout",
          "text": [
            "{1, 2, 3}\n"
          ]
        }
      ]
    },
    {
      "cell_type": "markdown",
      "source": [
        "19. Write a code to find the union of two sets {1, 2, 3} and {3, 4, 5}"
      ],
      "metadata": {
        "id": "SbQ6MPcNC7Zx"
      }
    },
    {
      "cell_type": "code",
      "source": [
        "SET= {1, 2, 3}\n",
        "SET1= {3, 4, 5}\n",
        "print(SET.union(SET1))"
      ],
      "metadata": {
        "colab": {
          "base_uri": "https://localhost:8080/"
        },
        "id": "knOQLYxBC-Ey",
        "outputId": "7cbf42a2-babb-4efe-99cc-5a2a5dd2ba6f"
      },
      "execution_count": 35,
      "outputs": [
        {
          "output_type": "stream",
          "name": "stdout",
          "text": [
            "{1, 2, 3, 4, 5}\n"
          ]
        }
      ]
    },
    {
      "cell_type": "markdown",
      "source": [
        "20. Write a code to find the intersection of two sets {1, 2, 3} and {2, 3, 4}"
      ],
      "metadata": {
        "id": "eP6f5OW1C-r6"
      }
    },
    {
      "cell_type": "code",
      "source": [
        "SET= {1, 2, 3}\n",
        "SET1= {2, 3, 4}\n",
        "print(SET.intersection(SET1))"
      ],
      "metadata": {
        "colab": {
          "base_uri": "https://localhost:8080/"
        },
        "id": "EzIirge4DCh6",
        "outputId": "ff33b9ae-e4d1-4267-d077-4c2c214095b6"
      },
      "execution_count": 36,
      "outputs": [
        {
          "output_type": "stream",
          "name": "stdout",
          "text": [
            "{2, 3}\n"
          ]
        }
      ]
    },
    {
      "cell_type": "markdown",
      "source": [
        "21. Write a code to create a dictionary with the keys \"name\", \"age\", and \"city\", and print it"
      ],
      "metadata": {
        "id": "kocqz3L0DC9J"
      }
    },
    {
      "cell_type": "code",
      "source": [
        "KEY= {\"name\": \"sindhuja\", \"age\": 30, \"city\": \"hyderabad\"}\n",
        "print(KEY)"
      ],
      "metadata": {
        "colab": {
          "base_uri": "https://localhost:8080/"
        },
        "id": "oXcGHLzODFmZ",
        "outputId": "b0d10065-1fa1-439e-e783-27df57cb2e5a"
      },
      "execution_count": 38,
      "outputs": [
        {
          "output_type": "stream",
          "name": "stdout",
          "text": [
            "{'name': 'sindhuja', 'age': 30, 'city': 'hyderabad'}\n"
          ]
        }
      ]
    },
    {
      "cell_type": "markdown",
      "source": [
        "22. Write a code to add a new key-value pair \"country\": \"USA\" to the dictionary {'name': 'John', 'age': 25}"
      ],
      "metadata": {
        "id": "0NgeY2FgDGah"
      }
    },
    {
      "cell_type": "code",
      "source": [
        "DICTIONARY= {'name': 'John', 'age': 25}\n",
        "DICTIONARY[\"country\"] = \"USA\"\n",
        "print(DICTIONARY)"
      ],
      "metadata": {
        "colab": {
          "base_uri": "https://localhost:8080/"
        },
        "id": "iDMbZCVqDNFZ",
        "outputId": "6cea3e7b-df81-4d91-d1fc-2c16252d4665"
      },
      "execution_count": 40,
      "outputs": [
        {
          "output_type": "stream",
          "name": "stdout",
          "text": [
            "{'name': 'John', 'age': 25, 'country': 'USA'}\n"
          ]
        }
      ]
    },
    {
      "cell_type": "markdown",
      "source": [
        "23.  Write a code to access the value associated with the key \"name\" in the dictionary {'name': 'Alice', 'age': 30}"
      ],
      "metadata": {
        "id": "QbMPWPs2DNlp"
      }
    },
    {
      "cell_type": "code",
      "source": [
        "dictionary= {'name': 'Alice', 'age': 30}\n",
        "print(dictionary[\"name\"])"
      ],
      "metadata": {
        "colab": {
          "base_uri": "https://localhost:8080/"
        },
        "id": "jesn3_inDQvJ",
        "outputId": "aff1dc66-6af6-4edb-8b70-a52a6931cf90"
      },
      "execution_count": 41,
      "outputs": [
        {
          "output_type": "stream",
          "name": "stdout",
          "text": [
            "Alice\n"
          ]
        }
      ]
    },
    {
      "cell_type": "markdown",
      "source": [
        "24. Write a code to remove the key \"age\" from the dictionary {'name': 'Bob', 'age': 22, 'city': 'New York'}"
      ],
      "metadata": {
        "id": "sIL_F6iPDRYJ"
      }
    },
    {
      "cell_type": "code",
      "source": [
        "dictionary= {'name': 'Bob', 'age': 22, 'city': 'New York'}\n",
        "del dictionary[\"age\"]\n",
        "print(dictionary)"
      ],
      "metadata": {
        "colab": {
          "base_uri": "https://localhost:8080/"
        },
        "id": "Thrr4Rr4DVOh",
        "outputId": "9436c066-7900-4265-af99-6c57ee994295"
      },
      "execution_count": 42,
      "outputs": [
        {
          "output_type": "stream",
          "name": "stdout",
          "text": [
            "{'name': 'Bob', 'city': 'New York'}\n"
          ]
        }
      ]
    },
    {
      "cell_type": "markdown",
      "source": [
        "25. Write a code to check if the key \"city\" exists in the dictionary {'name': 'Alice', 'city': 'Paris'}"
      ],
      "metadata": {
        "id": "ivQR3xyFDWHB"
      }
    },
    {
      "cell_type": "code",
      "source": [
        "dictionary= {'name': 'Alice', 'city': 'Paris'}\n",
        "print(\"city\" in dictionary)"
      ],
      "metadata": {
        "colab": {
          "base_uri": "https://localhost:8080/"
        },
        "id": "Q9N37k4WDYvB",
        "outputId": "43f54459-c095-4774-8d59-90d512dff104"
      },
      "execution_count": 43,
      "outputs": [
        {
          "output_type": "stream",
          "name": "stdout",
          "text": [
            "True\n"
          ]
        }
      ]
    },
    {
      "cell_type": "markdown",
      "source": [
        "26. Write a code to create a list, a tuple, and a dictionary, and print them all"
      ],
      "metadata": {
        "id": "dGuiw3Z8DZQJ"
      }
    },
    {
      "cell_type": "code",
      "source": [
        "dictionary= {'name': 'Alice', 'city': 'Paris'}\n",
        "print(dictionary)"
      ],
      "metadata": {
        "colab": {
          "base_uri": "https://localhost:8080/"
        },
        "id": "crt8MhSzDcdJ",
        "outputId": "818eb16c-1dc6-4eb1-e51a-7ebc0f9e0277"
      },
      "execution_count": 44,
      "outputs": [
        {
          "output_type": "stream",
          "name": "stdout",
          "text": [
            "{'name': 'Alice', 'city': 'Paris'}\n"
          ]
        }
      ]
    },
    {
      "cell_type": "markdown",
      "source": [
        "27. Write a code to create a list of 5 random numbers between 1 and 100, sort it in ascending order, and print the\n",
        "result.(replaced)"
      ],
      "metadata": {
        "id": "iQl2u7_dDc8B"
      }
    },
    {
      "cell_type": "code",
      "source": [
        "LIST= [1,2,3,4,5]\n",
        "LIST.sort()\n",
        "print(LIST)"
      ],
      "metadata": {
        "colab": {
          "base_uri": "https://localhost:8080/"
        },
        "id": "8Vb4yOXyDgJS",
        "outputId": "01751a87-0503-41ab-fe99-e6b3cf7b1b27"
      },
      "execution_count": 45,
      "outputs": [
        {
          "output_type": "stream",
          "name": "stdout",
          "text": [
            "[1, 2, 3, 4, 5]\n"
          ]
        }
      ]
    },
    {
      "cell_type": "code",
      "source": [
        "NUMBER= [15,26,3,47,5]\n",
        "NUMBER.sort()\n",
        "print(NUMBER)"
      ],
      "metadata": {
        "colab": {
          "base_uri": "https://localhost:8080/"
        },
        "id": "DfZu5YQvLJ0h",
        "outputId": "334be5f9-8c40-48f8-c3b5-16dafaf40f29"
      },
      "execution_count": 46,
      "outputs": [
        {
          "output_type": "stream",
          "name": "stdout",
          "text": [
            "[3, 5, 15, 26, 47]\n"
          ]
        }
      ]
    },
    {
      "cell_type": "markdown",
      "source": [
        "28. Write a code to create a list with strings and print the element at the third index"
      ],
      "metadata": {
        "id": "kHuwS1xuDgrK"
      }
    },
    {
      "cell_type": "code",
      "source": [
        "ELEMENT= ['apple', 'banana', 'kiwi', 'ORANGE', 'GRAPE']\n",
        "print(ELEMENT[-3])"
      ],
      "metadata": {
        "colab": {
          "base_uri": "https://localhost:8080/"
        },
        "id": "R7Rw-TB-DjVZ",
        "outputId": "320b862b-458d-42cf-81af-08a12e8d9e99"
      },
      "execution_count": 56,
      "outputs": [
        {
          "output_type": "stream",
          "name": "stdout",
          "text": [
            "kiwi\n"
          ]
        }
      ]
    },
    {
      "cell_type": "markdown",
      "source": [
        "29.  Write a code to combine two dictionaries into one and print the result."
      ],
      "metadata": {
        "id": "PpWhrl9zDj-q"
      }
    },
    {
      "cell_type": "code",
      "source": [
        "DICTIONARY= {'name': 'Alice', 'city': 'Paris'}\n",
        "DICTIONARY1= {'name': 'Bob', 'age': 22, 'city': 'New York'}\n",
        "DICTIONARY.update(DICTIONARY1)\n",
        "print(DICTIONARY)"
      ],
      "metadata": {
        "colab": {
          "base_uri": "https://localhost:8080/"
        },
        "id": "M2EMIgMwDnEx",
        "outputId": "5bcf39ca-2517-4bdc-cc55-a2e38843106d"
      },
      "execution_count": 57,
      "outputs": [
        {
          "output_type": "stream",
          "name": "stdout",
          "text": [
            "{'name': 'Bob', 'city': 'New York', 'age': 22}\n"
          ]
        }
      ]
    },
    {
      "cell_type": "markdown",
      "source": [
        "30.  Write a code to convert a list of strings into a set."
      ],
      "metadata": {
        "id": "sCE7nn8FDnaa"
      }
    },
    {
      "cell_type": "code",
      "source": [
        "LIST= ['apple', 'banana', 'kiwi', 'ORANGE', 'GRAPE']\n",
        "SET= set(LIST)\n",
        "print(SET)"
      ],
      "metadata": {
        "colab": {
          "base_uri": "https://localhost:8080/"
        },
        "id": "BzHuSHE2DqBy",
        "outputId": "46706588-e0a9-43c9-bcfc-325b762bcbd0"
      },
      "execution_count": 58,
      "outputs": [
        {
          "output_type": "stream",
          "name": "stdout",
          "text": [
            "{'kiwi', 'banana', 'ORANGE', 'apple', 'GRAPE'}\n"
          ]
        }
      ]
    },
    {
      "cell_type": "code",
      "source": [
        "string_list = [\"apple\", \"banana\", \"cherry\", \"apple\", \"banana\"]\n",
        "string_set = set(string_list)\n",
        "print(string_set)"
      ],
      "metadata": {
        "colab": {
          "base_uri": "https://localhost:8080/"
        },
        "id": "dMPWioWAMX2K",
        "outputId": "2b7b136a-dbca-4c3f-b7d7-42663a3a0dbb"
      },
      "execution_count": 59,
      "outputs": [
        {
          "output_type": "stream",
          "name": "stdout",
          "text": [
            "{'banana', 'cherry', 'apple'}\n"
          ]
        }
      ]
    }
  ]
}